{
  "nbformat": 4,
  "nbformat_minor": 0,
  "metadata": {
    "colab": {
      "name": "thinkweek9.ipynb",
      "provenance": [],
      "authorship_tag": "ABX9TyP20IKhtOkWjw8fqqycbOsC",
      "include_colab_link": true
    },
    "kernelspec": {
      "name": "python3",
      "display_name": "Python 3"
    }
  },
  "cells": [
    {
      "cell_type": "markdown",
      "metadata": {
        "id": "view-in-github",
        "colab_type": "text"
      },
      "source": [
        "<a href=\"https://colab.research.google.com/github/hsuning444/Computational-Thinking-and-Program-Design/blob/master/thinkweek9.ipynb\" target=\"_parent\"><img src=\"https://colab.research.google.com/assets/colab-badge.svg\" alt=\"Open In Colab\"/></a>"
      ]
    },
    {
      "cell_type": "markdown",
      "metadata": {
        "id": "sN926QvsGUXO",
        "colab_type": "text"
      },
      "source": [
        "### 題目 1: 全班40人分組，每五位同學一組，老師規定依座號順序分組，也就是1號到5號一組，6號到10號一組，請寫一個程式允許使用者輸入座號，輸出分組的組別。"
      ]
    },
    {
      "cell_type": "code",
      "metadata": {
        "id": "YIEd4B_1lVJw",
        "colab_type": "code",
        "colab": {}
      },
      "source": [
        "座號 = float(input('請輸入座號'))\n"
      ],
      "execution_count": 0,
      "outputs": []
    },
    {
      "cell_type": "markdown",
      "metadata": {
        "id": "oOcVBQ0qGUXS",
        "colab_type": "text"
      },
      "source": [
        "### 題目 2: 題目2: 請設計一個程式計算圓面積與圓周長，依輸入的半徑計算圓面積與圓周長。"
      ]
    },
    {
      "cell_type": "code",
      "metadata": {
        "id": "BuEUQCow1wTD",
        "colab_type": "code",
        "colab": {
          "base_uri": "https://localhost:8080/",
          "height": 51
        },
        "outputId": "e9d2aebe-3e2c-4b90-8cab-4cdc3f0c0186"
      },
      "source": [
        "半徑 = float(input('請輸入半徑'))\n",
        "PI = 3.14159\n",
        "\n",
        "圓周長 = 2 * PI * 半徑\n",
        "圓面積 = 半徑 * 半徑 * PI\n",
        "\n",
        "print('圓周長為', 圓周長, '圓面積為', 圓面積)"
      ],
      "execution_count": 4,
      "outputs": [
        {
          "output_type": "stream",
          "text": [
            "請輸入半徑2\n",
            "圓周長為 12.56636 圓面積為 12.56636\n"
          ],
          "name": "stdout"
        }
      ]
    },
    {
      "cell_type": "markdown",
      "metadata": {
        "id": "c14IvE9CGUXY",
        "colab_type": "text"
      },
      "source": [
        "### 題目 3:請設計一個程式將輸入的攝氏溫度轉成華氏溫度，轉換公式如下:華氏溫度= 攝氏溫度*9/5+32"
      ]
    },
    {
      "cell_type": "code",
      "metadata": {
        "id": "t56yEHB31z1l",
        "colab_type": "code",
        "colab": {
          "base_uri": "https://localhost:8080/",
          "height": 68
        },
        "outputId": "d4998752-f4a7-4976-c003-d926f14f89a2"
      },
      "source": [
        "c = float(input('請輸入攝氏溫度？'))\n",
        "print('攝氏溫度為', c)\n",
        "\n",
        "f = c* 9/5 + 32\n",
        "print('華氏溫度為', f)\n"
      ],
      "execution_count": 9,
      "outputs": [
        {
          "output_type": "stream",
          "text": [
            "請輸入攝氏溫度？33\n",
            "攝氏溫度為 33.0\n",
            "華氏溫度為 91.4\n"
          ],
          "name": "stdout"
        }
      ]
    }
  ]
}