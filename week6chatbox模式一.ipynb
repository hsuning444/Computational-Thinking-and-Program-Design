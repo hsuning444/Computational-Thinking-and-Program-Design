{
  "nbformat": 4,
  "nbformat_minor": 0,
  "metadata": {
    "colab": {
      "name": "week6chatbox模式一.ipynb",
      "provenance": [],
      "authorship_tag": "ABX9TyN8I6jF9dihrHbUmrmAYTBu",
      "include_colab_link": true
    },
    "kernelspec": {
      "name": "python3",
      "display_name": "Python 3"
    }
  },
  "cells": [
    {
      "cell_type": "markdown",
      "metadata": {
        "id": "view-in-github",
        "colab_type": "text"
      },
      "source": [
        "<a href=\"https://colab.research.google.com/github/hsuning444/Computational-Thinking-and-Program-Design/blob/master/week6chatbox%E6%A8%A1%E5%BC%8F%E4%B8%80.ipynb\" target=\"_parent\"><img src=\"https://colab.research.google.com/assets/colab-badge.svg\" alt=\"Open In Colab\"/></a>"
      ]
    },
    {
      "cell_type": "code",
      "metadata": {
        "id": "JhmK6ZkYhLxG",
        "colab_type": "code",
        "colab": {
          "base_uri": "https://localhost:8080/",
          "height": 68
        },
        "outputId": "ca6fd6bf-cc69-4c96-9340-975cd5f32b71"
      },
      "source": [
        "print(\"許家寧\")\n",
        "print(\"19歲\")\n",
        "print(\"52kg\")"
      ],
      "execution_count": 2,
      "outputs": [
        {
          "output_type": "stream",
          "text": [
            "許家寧\n",
            "19歲\n",
            "52kg\n"
          ],
          "name": "stdout"
        }
      ]
    }
  ]
}