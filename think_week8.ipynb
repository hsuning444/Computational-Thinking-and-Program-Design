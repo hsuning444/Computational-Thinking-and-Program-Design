{
  "nbformat": 4,
  "nbformat_minor": 0,
  "metadata": {
    "colab": {
      "name": "think week8.ipynb",
      "provenance": [],
      "authorship_tag": "ABX9TyNVCFwBCJ5SBDeixwJiCm81",
      "include_colab_link": true
    },
    "kernelspec": {
      "name": "python3",
      "display_name": "Python 3"
    }
  },
  "cells": [
    {
      "cell_type": "markdown",
      "metadata": {
        "id": "view-in-github",
        "colab_type": "text"
      },
      "source": [
        "<a href=\"https://colab.research.google.com/github/hsuning444/Computational-Thinking-and-Program-Design/blob/master/think_week8.ipynb\" target=\"_parent\"><img src=\"https://colab.research.google.com/assets/colab-badge.svg\" alt=\"Open In Colab\"/></a>"
      ]
    },
    {
      "cell_type": "code",
      "metadata": {
        "id": "KFyyqUyXrDy6",
        "colab_type": "code",
        "outputId": "d990cea1-e81b-4e26-fecf-cb0add2740c9",
        "colab": {
          "base_uri": "https://localhost:8080/",
          "height": 119
        }
      },
      "source": [
        "hours = input(\"enter movie time hours\")\n",
        "minutes = input(\"enter movie time minutes\")\n",
        "\n",
        "hours = int(hours)\n",
        "minutes = int(minutes)\n",
        "\n",
        "length = hours*60 + minutes #數學運算\n",
        "print(hours, \"Hous\", minutes, \"Minutes\", \"movie length is\", length, \"minutes\")\n",
        "\n",
        "#133分鐘 轉成 2小時13分鐘\n",
        "\n",
        "hours1 = length / 60\n",
        "print(hours1)\n",
        "\n",
        "minutes1 = length % 60\n",
        "print(minutes1)\n",
        "print(length,\"Minutes equals\", hours1, \"Hours\", minutes1, \"Minutes\")\n"
      ],
      "execution_count": 15,
      "outputs": [
        {
          "output_type": "stream",
          "text": [
            "enter movie time hours2\n",
            "enter movie time minutes13\n",
            "2 Hous 13 Minutes movie length is 133 minutes\n",
            "2.216666666666667\n",
            "13\n",
            "133 Minutes equals 2.216666666666667 Hours 13 Minutes\n"
          ],
          "name": "stdout"
        }
      ]
    }
  ]
}