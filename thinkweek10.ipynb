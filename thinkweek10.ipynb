{
  "nbformat": 4,
  "nbformat_minor": 0,
  "metadata": {
    "colab": {
      "name": "thinkweek10.ipynb",
      "provenance": [],
      "authorship_tag": "ABX9TyNih73R9/TJLnp2nMZV4ePX",
      "include_colab_link": true
    },
    "kernelspec": {
      "name": "python3",
      "display_name": "Python 3"
    }
  },
  "cells": [
    {
      "cell_type": "markdown",
      "metadata": {
        "id": "view-in-github",
        "colab_type": "text"
      },
      "source": [
        "<a href=\"https://colab.research.google.com/github/hsuning444/Computational-Thinking-and-Program-Design/blob/master/thinkweek10.ipynb\" target=\"_parent\"><img src=\"https://colab.research.google.com/assets/colab-badge.svg\" alt=\"Open In Colab\"/></a>"
      ]
    },
    {
      "cell_type": "markdown",
      "metadata": {
        "id": "fRsgdKMxGUXc",
        "colab_type": "text"
      },
      "source": [
        "### 題目 4: 假設上衣300元、褲子350元與背心400元，使用者可以自行輸入三種服裝的數量，請設計一個程式計算訂購服裝的總金額。"
      ]
    },
    {
      "cell_type": "code",
      "metadata": {
        "id": "HAqDX3vrGUXd",
        "colab_type": "code",
        "colab": {
          "base_uri": "https://localhost:8080/",
          "height": 85
        },
        "outputId": "75468cf8-e1e0-4400-b111-54e2e2f6ca05"
      },
      "source": [
        "上衣 = int(input('請輸入上衣數量？'))\n",
        "褲子 = int(input('請輸入褲子數量？'))\n",
        "背心 = int(input('請輸入背心數量？'))\n",
        "\n",
        "總金額 = 上衣*300 + 褲子*350 + 背心*400\n",
        "\n",
        "print('訂購服裝的總金額為', 總金額)"
      ],
      "execution_count": 1,
      "outputs": [
        {
          "output_type": "stream",
          "text": [
            "請輸入上衣數量？2\n",
            "請輸入褲子數量？4\n",
            "請輸入背心數量？1\n",
            "訂購服裝的總金額為 2400\n"
          ],
          "name": "stdout"
        }
      ]
    },
    {
      "cell_type": "markdown",
      "metadata": {
        "id": "D2HCggJ1GUXf",
        "colab_type": "text"
      },
      "source": [
        "### 題目 5: 假設飲料一罐賣20元，一打賣200元，請設計一個程式計算買幾罐需花多少錢，若不足一打就個別買。"
      ]
    },
    {
      "cell_type": "code",
      "metadata": {
        "id": "db__pd352ZVa",
        "colab_type": "code",
        "colab": {
          "base_uri": "https://localhost:8080/",
          "height": 51
        },
        "outputId": "724a7089-28c8-424b-a760-6ba8b356a19d"
      },
      "source": [
        "罐數 = int(input('請輸入購買飲料罐數'))\n",
        "\n",
        "金額 = (罐數//12)*200 + (罐數%12)*20\n",
        "\n",
        "print('需花費', 金額)"
      ],
      "execution_count": 2,
      "outputs": [
        {
          "output_type": "stream",
          "text": [
            "請輸入購買飲料罐數36\n",
            "需花費 600\n"
          ],
          "name": "stdout"
        }
      ]
    },
    {
      "cell_type": "markdown",
      "metadata": {
        "id": "HzLRPZLH2qAW",
        "colab_type": "text"
      },
      "source": [
        "### 題目6: 輸入第一次期中考、第二次期中考與期末考成績，成績皆為整數，請計算分數的加總與平均。"
      ]
    },
    {
      "cell_type": "code",
      "metadata": {
        "id": "r3Dwi5AF7MCF",
        "colab_type": "code",
        "colab": {
          "base_uri": "https://localhost:8080/",
          "height": 102
        },
        "outputId": "df989908-fc7a-47c7-eb06-2b02ca8ee882"
      },
      "source": [
        "第一次期中考 = int(input('請輸入第一次期中考成績'))\n",
        "第二次期中考 = int(input('請輸入第二次期中考成績'))\n",
        "期末考 = int(input('請輸入期末考成績'))\n",
        "\n",
        "總分 = 第一次期中考 + 第二次期中考 + 期末考\n",
        "print('總分', 總分)\n",
        "\n",
        "平均 = 總分 / 3\n",
        "print('平均', 平均) \n"
      ],
      "execution_count": 5,
      "outputs": [
        {
          "output_type": "stream",
          "text": [
            "請輸入第一次期中考成績100\n",
            "請輸入第二次期中考成績100\n",
            "請輸入期末考成績30\n",
            "總分 230\n",
            "平均 76.66666666666667\n"
          ],
          "name": "stdout"
        }
      ]
    }
  ]
}