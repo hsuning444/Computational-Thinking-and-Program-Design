{
  "nbformat": 4,
  "nbformat_minor": 0,
  "metadata": {
    "colab": {
      "name": "think week7.ipynb",
      "provenance": [],
      "authorship_tag": "ABX9TyN7zFEJfcn01/tzK05Rl1+N",
      "include_colab_link": true
    },
    "kernelspec": {
      "name": "python3",
      "display_name": "Python 3"
    }
  },
  "cells": [
    {
      "cell_type": "markdown",
      "metadata": {
        "id": "view-in-github",
        "colab_type": "text"
      },
      "source": [
        "<a href=\"https://colab.research.google.com/github/hsuning444/Computational-Thinking-and-Program-Design/blob/master/think_week7.ipynb\" target=\"_parent\"><img src=\"https://colab.research.google.com/assets/colab-badge.svg\" alt=\"Open In Colab\"/></a>"
      ]
    },
    {
      "cell_type": "code",
      "metadata": {
        "id": "voQOOxaaeX3X",
        "colab_type": "code",
        "colab": {
          "base_uri": "https://localhost:8080/",
          "height": 136
        },
        "outputId": "cb877aee-0add-4f1e-b11a-b19ecf0cd837"
      },
      "source": [
        "movie_title = (\"梨泰院\") #電影名稱\n",
        "release_year = (\"2020\") #發行年\n",
        "movie_time_in = (\"60mins\") #片長\n",
        "movie_rate = (\"8.8\") #評分\n",
        "\n",
        "director = (\"姜敏九\") #導演名稱\n",
        "main_actor = (\"朴敘俊\") #主要演員\n",
        "main_actress = (\"金多美\") #主要演員 \n",
        "\n",
        "print(movie_title)\n",
        "print(release_year)\n",
        "print(movie_time_in)\n",
        "print(movie_rate)\n",
        "print(director)\n",
        "print(main_actor)\n",
        "print(main_actress)"
      ],
      "execution_count": 12,
      "outputs": [
        {
          "output_type": "stream",
          "text": [
            "梨泰院\n",
            "2020\n",
            "60mins\n",
            "8.8\n",
            "姜敏九\n",
            "朴敘俊\n",
            "金多美\n"
          ],
          "name": "stdout"
        }
      ]
    }
  ]
}