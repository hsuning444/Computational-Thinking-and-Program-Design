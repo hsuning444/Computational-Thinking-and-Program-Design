{
  "nbformat": 4,
  "nbformat_minor": 0,
  "metadata": {
    "colab": {
      "name": "week6chatbox模式三.ipynb",
      "provenance": [],
      "authorship_tag": "ABX9TyObOyn9Y2+jVP7O2zShEdPa",
      "include_colab_link": true
    },
    "kernelspec": {
      "name": "python3",
      "display_name": "Python 3"
    }
  },
  "cells": [
    {
      "cell_type": "markdown",
      "metadata": {
        "id": "view-in-github",
        "colab_type": "text"
      },
      "source": [
        "<a href=\"https://colab.research.google.com/github/hsuning444/Computational-Thinking-and-Program-Design/blob/master/week6chatbox%E6%A8%A1%E5%BC%8F%E4%B8%89.ipynb\" target=\"_parent\"><img src=\"https://colab.research.google.com/assets/colab-badge.svg\" alt=\"Open In Colab\"/></a>"
      ]
    },
    {
      "cell_type": "code",
      "metadata": {
        "id": "dUYsTntYlQMF",
        "colab_type": "code",
        "colab": {
          "base_uri": "https://localhost:8080/",
          "height": 170
        },
        "outputId": "f1d01657-eb7a-4f5d-e840-84d30f17a603"
      },
      "source": [
        "print(\"你叫什麼名字？\")\n",
        "name=input(\"輸入名字\")\n",
        "print(\"你好\",name,\"很高興認識你！\")\n",
        "print(\"你幾歲？\")\n",
        "age=input(\"輸入歲數\")\n",
        "print(\"是喔！\",age,\"我比你大一歲\")\n",
        "print(\"你多重？\")\n",
        "weight=input(\"輸入體重\")\n",
        "print(\"哇！\",weight,\"很重誒～該減肥摟～\")"
      ],
      "execution_count": 10,
      "outputs": [
        {
          "output_type": "stream",
          "text": [
            "你叫什麼名字？\n",
            "輸入名字許家寧\n",
            "你好 許家寧 很高興認識你！\n",
            "你幾歲？\n",
            "輸入歲數19\n",
            "是喔！ 19 我比你大一歲\n",
            "你多重？\n",
            "輸入體重52\n",
            "哇！ 52 很重誒～該減肥摟～\n"
          ],
          "name": "stdout"
        }
      ]
    }
  ]
}