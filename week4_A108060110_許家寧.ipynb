{
  "nbformat": 4,
  "nbformat_minor": 0,
  "metadata": {
    "colab": {
      "name": "week4-A108060110-許家寧.ipynb",
      "provenance": []
    },
    "kernelspec": {
      "name": "python3",
      "display_name": "Python 3"
    }
  },
  "cells": [
    {
      "cell_type": "code",
      "metadata": {
        "id": "30mnjDpwZBXc",
        "colab_type": "code",
        "outputId": "f24d99d1-3ca4-44ed-f17d-e5d1c17163bc",
        "colab": {
          "base_uri": "https://localhost:8080/",
          "height": 34
        }
      },
      "source": [
        "print(\"Hello World\")"
      ],
      "execution_count": 0,
      "outputs": [
        {
          "output_type": "stream",
          "text": [
            "Hello World\n"
          ],
          "name": "stdout"
        }
      ]
    },
    {
      "cell_type": "markdown",
      "metadata": {
        "id": "DcnyCmca5PtD",
        "colab_type": "text"
      },
      "source": [
        "嗨～我是盧佳怡"
      ]
    },
    {
      "cell_type": "markdown",
      "metadata": {
        "id": "dqpOHrbY4PdC",
        "colab_type": "text"
      },
      "source": [
        "嗨嗨~我是A108060110許家寧\n"
      ]
    },
    {
      "cell_type": "markdown",
      "metadata": {
        "id": "vCxrCXR85Nwo",
        "colab_type": "text"
      },
      "source": [
        ""
      ]
    }
  ]
}