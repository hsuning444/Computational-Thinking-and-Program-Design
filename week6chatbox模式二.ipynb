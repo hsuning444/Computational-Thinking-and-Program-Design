{
  "nbformat": 4,
  "nbformat_minor": 0,
  "metadata": {
    "colab": {
      "name": "week6chatbox模式二.ipynb",
      "provenance": [],
      "authorship_tag": "ABX9TyP1jv6jatNOoWcQGqgq+ux+",
      "include_colab_link": true
    },
    "kernelspec": {
      "name": "python3",
      "display_name": "Python 3"
    }
  },
  "cells": [
    {
      "cell_type": "markdown",
      "metadata": {
        "id": "view-in-github",
        "colab_type": "text"
      },
      "source": [
        "<a href=\"https://colab.research.google.com/github/hsuning444/Computational-Thinking-and-Program-Design/blob/master/week6chatbox%E6%A8%A1%E5%BC%8F%E4%BA%8C.ipynb\" target=\"_parent\"><img src=\"https://colab.research.google.com/assets/colab-badge.svg\" alt=\"Open In Colab\"/></a>"
      ]
    },
    {
      "cell_type": "code",
      "metadata": {
        "id": "od5HeKtwlwwh",
        "colab_type": "code",
        "colab": {
          "base_uri": "https://localhost:8080/",
          "height": 68
        },
        "outputId": "c742b0a1-6f9a-4c58-d0f4-a381c5a90187"
      },
      "source": [
        "name=input(\"輸入名字\")\n",
        "age=input(\"輸入歲數\")\n",
        "weight=input(\"輸入體重\")"
      ],
      "execution_count": 2,
      "outputs": [
        {
          "output_type": "stream",
          "text": [
            "輸入名字許家寧\n",
            "輸入歲數19\n",
            "輸入體重52\n"
          ],
          "name": "stdout"
        }
      ]
    }
  ]
}