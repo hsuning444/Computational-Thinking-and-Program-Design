{
  "nbformat": 4,
  "nbformat_minor": 0,
  "metadata": {
    "colab": {
      "name": "thinkweek11.ipynb",
      "provenance": [],
      "authorship_tag": "ABX9TyPDUfZo1dE3hCVkSJhNhmAj",
      "include_colab_link": true
    },
    "kernelspec": {
      "name": "python3",
      "display_name": "Python 3"
    }
  },
  "cells": [
    {
      "cell_type": "markdown",
      "metadata": {
        "id": "view-in-github",
        "colab_type": "text"
      },
      "source": [
        "<a href=\"https://colab.research.google.com/github/hsuning444/Computational-Thinking-and-Program-Design/blob/master/thinkweek11.ipynb\" target=\"_parent\"><img src=\"https://colab.research.google.com/assets/colab-badge.svg\" alt=\"Open In Colab\"/></a>"
      ]
    },
    {
      "cell_type": "code",
      "metadata": {
        "id": "DIHKOPIKezZW",
        "colab_type": "code",
        "colab": {
          "base_uri": "https://localhost:8080/",
          "height": 306
        },
        "outputId": "2507a831-2c26-4fe2-cc5c-9b18aade4971"
      },
      "source": [
        "#聊天機器人自我介紹\n",
        "print(\"哈囉！我是巴拉巴拉，我是一位聊天機器人喔～\")\n",
        "print(\"我喜歡動物也喜歡聊動物！\")\n",
        "\n",
        "#取得使用者名稱\n",
        "name = input(\"你叫什麼名字？\")\n",
        "\n",
        "#打招呼\n",
        "print(\"你好\", name,\"很高興認識你！\")\n",
        "\n",
        "#食物話題\n",
        "print(\"我喜歡吃臭豆腐\")\n",
        "food = input(\"你呢？你喜歡什麼食物？\")\n",
        "print(\"我也喜歡\", food)\n",
        "question = (\"你多久吃一次\" , food , \"?\")\n",
        "print(\"真有趣，但對健康不太好吧！\")\n",
        "\n",
        "#動物話題\n",
        "animal = input(\"我最喜歡的動物是貓咪，你呢？\")\n",
        "print( animal, \"我也是！！\" )\n",
        "print(\"不知道, \" ,animal, \"可不可以吃\", food,\"?\")\n",
        "\n",
        "#關於心情對話\n",
        "feeling= input(\"你今天心情如何？\")\n",
        "print(\"為什麼你現在覺得\",feeling,\"呢？\")\n",
        "reason = input(\"請告訴我\")\n",
        "print(\"我知道了，謝謝你跟我分享\")\n",
        "\n",
        "#道別\n",
        "print(\"我喜歡跟你聊天\",name,)\n",
        "print(\"但今天事情真多，我累到無法再聊了，下次聊～掰\")\n",
        "\n"
      ],
      "execution_count": 3,
      "outputs": [
        {
          "output_type": "stream",
          "text": [
            "哈囉！我是巴拉巴拉，我是一位聊天機器人喔～\n",
            "我喜歡動物也喜歡聊動物！\n",
            "你叫什麼名字？許嘉寧～\n",
            "你好 許嘉寧～ 很高興認識你！\n",
            "我喜歡吃臭豆腐\n",
            "你呢？你喜歡什麼食物？珍奶\n",
            "我也喜歡 珍奶\n",
            "真有趣，但對健康不太好吧！\n",
            "我最喜歡的動物是貓咪，你呢？狗狗\n",
            "狗狗 我也是！！\n",
            "不知道,  狗狗 可不可以吃 珍奶 ?\n",
            "你今天心情如何？很好\n",
            "為什麼你現在覺得 很好 呢？\n",
            "請告訴我跟你聊天開心啊\n",
            "我知道了，謝謝你跟我分享\n",
            "我喜歡跟你聊天 許嘉寧～\n",
            "但今天事情真多，我累到無法再聊了，下次聊～掰\n"
          ],
          "name": "stdout"
        }
      ]
    }
  ]
}